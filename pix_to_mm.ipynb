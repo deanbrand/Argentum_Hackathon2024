{
 "cells": [
  {
   "cell_type": "code",
   "execution_count": 65,
   "metadata": {},
   "outputs": [],
   "source": [
    "import os\n",
    "from PIL import Image\n",
    "import json\n",
    "import math"
   ]
  },
  {
   "cell_type": "code",
   "execution_count": 66,
   "metadata": {},
   "outputs": [],
   "source": [
    "TRAIN = True\n",
    "VAL = False\n",
    "TEST = False"
   ]
  },
  {
   "cell_type": "code",
   "execution_count": 67,
   "metadata": {},
   "outputs": [],
   "source": [
    "# only one can be true at a time, check and break if more than one is true\n",
    "if TRAIN and VAL:\n",
    "    print(\"Error: Both TRAIN and VAL are set to True. Only one can be True at a time.\")\n",
    "    exit(1)\n",
    "elif TRAIN and TEST:\n",
    "    print(\"Error: Both TRAIN and TEST are set to True. Only one can be True at a time.\")\n",
    "    exit(1)\n",
    "elif VAL and TEST:\n",
    "    print(\"Error: Both VAL and TEST are set to True. Only one can be True at a time.\")\n",
    "    exit(1)"
   ]
  },
  {
   "cell_type": "code",
   "execution_count": 68,
   "metadata": {},
   "outputs": [],
   "source": [
    "if TRAIN:\n",
    "    path = 'train_s'\n",
    "    imagen = 'p106.jpg'\n",
    "\n",
    "if VAL:\n",
    "    path = 'val'\n",
    "    imagen = 'p1428.jpg'\n",
    "\n",
    "if TEST:\n",
    "    path = 'test'\n",
    "    imagen = 'p103.jpg'"
   ]
  },
  {
   "cell_type": "code",
   "execution_count": 69,
   "metadata": {},
   "outputs": [],
   "source": [
    "# Define paths\n",
    "# Directory with the YOLO annotations\n",
    "annotation_directory = f'/path/to/data/SBH2024/good_data/data/labels/{path}/'\n",
    "# Directory with the corresponding test images\n",
    "image_directory = f'/path/to/data/SBH2024/good_data/data/images/{\n",
    "    path}/'\n",
    "# Directory to save the measurement features\n",
    "output_directory = f'/path/to/data/SBH2024/good_data/data/measurements/{\n",
    "    path}/'"
   ]
  },
  {
   "cell_type": "code",
   "execution_count": 70,
   "metadata": {},
   "outputs": [],
   "source": [
    "# Function to parse a YOLO annotation file\n",
    "def parse_yolo_annotation(file_path):\n",
    "    with open(file_path, 'r') as file:\n",
    "        lines = file.readlines()\n",
    "    boxes = []\n",
    "    for line in lines:\n",
    "        parts = line.strip().split()\n",
    "        class_id = int(parts[0])\n",
    "        x_center, y_center, width, height = map(float, parts[1:])\n",
    "        boxes.append((class_id, x_center, y_center, width, height))\n",
    "    return boxes"
   ]
  },
  {
   "cell_type": "code",
   "execution_count": 71,
   "metadata": {},
   "outputs": [
    {
     "name": "stdout",
     "output_type": "stream",
     "text": [
      "Annotations loaded successfully.\n"
     ]
    }
   ],
   "source": [
    "# Load all annotations\n",
    "annotations = {}\n",
    "for file_name in os.listdir(annotation_directory):\n",
    "    if file_name.endswith('.txt'):\n",
    "        file_path = os.path.join(annotation_directory, file_name)\n",
    "        annotations[file_name] = parse_yolo_annotation(file_path)\n",
    "\n",
    "print(\"Annotations loaded successfully.\")"
   ]
  },
  {
   "cell_type": "code",
   "execution_count": 72,
   "metadata": {},
   "outputs": [],
   "source": [
    "# Function to calculate the diagonal length of a bounding box\n",
    "def calculate_diagonal_length(width, height):\n",
    "    return math.sqrt(width**2 + height**2)"
   ]
  },
  {
   "cell_type": "code",
   "execution_count": 73,
   "metadata": {},
   "outputs": [],
   "source": [
    "# Function to calculate pixel-to-mm conversion using the diagonal of the bounding box\n",
    "def calculate_pixel_to_mm(image_height, image_width, annotation):\n",
    "    stick_length_mm = 500  # The actual length of the measurement stick in millimeters\n",
    "    for box in annotation:\n",
    "        class_id, _, _, width, height = box\n",
    "        if class_id in [1, 2]:  # Measurement stick class\n",
    "            # Calculate the diagonal length in pixels\n",
    "            diagonal_length_px = calculate_diagonal_length(\n",
    "                width * image_width, height * image_height)\n",
    "\n",
    "            # Calculate the conversion factor from pixels to millimeters\n",
    "            return stick_length_mm / diagonal_length_px\n",
    "    return None"
   ]
  },
  {
   "cell_type": "code",
   "execution_count": 74,
   "metadata": {},
   "outputs": [
    {
     "name": "stdout",
     "output_type": "stream",
     "text": [
      "Pixel-to-MM conversion factor for p106.jpg: 1.7080997514721032 mm/px\n"
     ]
    }
   ],
   "source": [
    "# Example: Calculate pixel-to-mm for a single image\n",
    "image_name = imagen\n",
    "annotation_file_name = image_name.replace('.jpg', '.txt')\n",
    "\n",
    "# Load the image to get its dimensions\n",
    "image_path = os.path.join(image_directory, image_name)\n",
    "image = Image.open(image_path)\n",
    "image_width, image_height = image.size\n",
    "\n",
    "# Get the annotation for this image\n",
    "annotation = annotations[annotation_file_name]\n",
    "\n",
    "# Calculate the pixel-to-mm conversion factor\n",
    "pixel_to_mm = calculate_pixel_to_mm(image_height, image_width, annotation)\n",
    "print(f\"Pixel-to-MM conversion factor for {image_name}: {pixel_to_mm} mm/px\")"
   ]
  },
  {
   "cell_type": "code",
   "execution_count": 75,
   "metadata": {},
   "outputs": [],
   "source": [
    "# Function to estimate pothole size in millimeters\n",
    "def estimate_pothole_size_mm(pixel_to_mm, annotation, image_width, image_height):\n",
    "    pothole_size_mm = {}\n",
    "    # if 0 not in classs_id, return 0 for all values\n",
    "    if 0 not in [box[0] for box in annotation]:\n",
    "        pothole_size_mm['width_mm'] = 500\n",
    "        pothole_size_mm['height_mm'] = 500\n",
    "        pothole_size_mm['area_mm2'] = 250000\n",
    "        pothole_size_mm['aspect_ratio'] = 1\n",
    "    for box in annotation:\n",
    "        class_id, x_center, y_center, width, height = box\n",
    "        if class_id == 0:  # Pothole class\n",
    "            pothole_width_px = width * image_width\n",
    "            pothole_height_px = height * image_height\n",
    "            pothole_width_mm = pothole_width_px * pixel_to_mm\n",
    "            pothole_height_mm = pothole_height_px * pixel_to_mm\n",
    "            pothole_size_mm['width_mm'] = pothole_width_mm\n",
    "            pothole_size_mm['height_mm'] = pothole_height_mm\n",
    "            pothole_size_mm['area_mm2'] = pothole_width_mm * pothole_height_mm\n",
    "            pothole_size_mm['aspect_ratio'] = pothole_width_mm / \\\n",
    "                pothole_height_mm\n",
    "    return pothole_size_mm"
   ]
  },
  {
   "cell_type": "code",
   "execution_count": 76,
   "metadata": {},
   "outputs": [
    {
     "name": "stdout",
     "output_type": "stream",
     "text": [
      "Pothole dimensions for p106.jpg: {'width_mm': 664.4951353435978, 'height_mm': 494.69244028462873, 'area_mm2': 328720.720060389, 'aspect_ratio': 1.3432490194539268}\n"
     ]
    }
   ],
   "source": [
    "# Estimate the pothole size in millimeters for this example image\n",
    "pothole_size_mm = estimate_pothole_size_mm(\n",
    "    pixel_to_mm, annotation, image_width, image_height)\n",
    "print(f\"Pothole dimensions for {image_name}: {pothole_size_mm}\")"
   ]
  },
  {
   "cell_type": "code",
   "execution_count": 77,
   "metadata": {},
   "outputs": [
    {
     "name": "stdout",
     "output_type": "stream",
     "text": [
      "No measurement stick found for p101.jpg. Skipping...\n",
      "No measurement stick found for p102.jpg. Skipping...\n",
      "No measurement stick found for p1037.jpg. Skipping...\n",
      "No measurement stick found for p1055.jpg. Skipping...\n",
      "No measurement stick found for p1078.jpg. Skipping...\n",
      "No measurement stick found for p1082.jpg. Skipping...\n",
      "No measurement stick found for p1089.jpg. Skipping...\n",
      "No measurement stick found for p1095.jpg. Skipping...\n",
      "No measurement stick found for p1103.jpg. Skipping...\n",
      "No measurement stick found for p1104.jpg. Skipping...\n",
      "No measurement stick found for p1113.jpg. Skipping...\n",
      "No measurement stick found for p1117.jpg. Skipping...\n",
      "No measurement stick found for p1123.jpg. Skipping...\n",
      "No measurement stick found for p1131.jpg. Skipping...\n",
      "No measurement stick found for p1143.jpg. Skipping...\n",
      "No measurement stick found for p1149.jpg. Skipping...\n",
      "No measurement stick found for p1154.jpg. Skipping...\n",
      "No measurement stick found for p1156.jpg. Skipping...\n",
      "No measurement stick found for p1158.jpg. Skipping...\n",
      "No measurement stick found for p1160.jpg. Skipping...\n",
      "No measurement stick found for p1167.jpg. Skipping...\n",
      "No measurement stick found for p1169.jpg. Skipping...\n",
      "No measurement stick found for p1171.jpg. Skipping...\n",
      "No measurement stick found for p1172.jpg. Skipping...\n",
      "No measurement stick found for p1173.jpg. Skipping...\n",
      "No measurement stick found for p1174.jpg. Skipping...\n",
      "No measurement stick found for p1186.jpg. Skipping...\n",
      "No measurement stick found for p1187.jpg. Skipping...\n",
      "No measurement stick found for p1189.jpg. Skipping...\n",
      "No measurement stick found for p1208.jpg. Skipping...\n",
      "No measurement stick found for p1210.jpg. Skipping...\n",
      "No measurement stick found for p1212.jpg. Skipping...\n",
      "No measurement stick found for p1213.jpg. Skipping...\n",
      "No measurement stick found for p1214.jpg. Skipping...\n",
      "No measurement stick found for p1221.jpg. Skipping...\n",
      "No measurement stick found for p1233.jpg. Skipping...\n",
      "No measurement stick found for p1238.jpg. Skipping...\n",
      "No measurement stick found for p1240.jpg. Skipping...\n",
      "No measurement stick found for p1247.jpg. Skipping...\n",
      "No measurement stick found for p1266.jpg. Skipping...\n",
      "No measurement stick found for p1267.jpg. Skipping...\n",
      "No measurement stick found for p1276.jpg. Skipping...\n",
      "No measurement stick found for p128.jpg. Skipping...\n",
      "No measurement stick found for p1282.jpg. Skipping...\n",
      "No measurement stick found for p1285.jpg. Skipping...\n",
      "No measurement stick found for p1286.jpg. Skipping...\n",
      "No measurement stick found for p1299.jpg. Skipping...\n",
      "No measurement stick found for p1306.jpg. Skipping...\n",
      "No measurement stick found for p1308.jpg. Skipping...\n",
      "No measurement stick found for p1310.jpg. Skipping...\n",
      "No measurement stick found for p1315.jpg. Skipping...\n",
      "No measurement stick found for p1328.jpg. Skipping...\n",
      "No measurement stick found for p1335.jpg. Skipping...\n",
      "No measurement stick found for p1341.jpg. Skipping...\n",
      "No measurement stick found for p1346.jpg. Skipping...\n",
      "No measurement stick found for p1350.jpg. Skipping...\n",
      "No measurement stick found for p1355.jpg. Skipping...\n",
      "No measurement stick found for p1356.jpg. Skipping...\n",
      "No measurement stick found for p1358.jpg. Skipping...\n",
      "No measurement stick found for p1408.jpg. Skipping...\n",
      "No measurement stick found for p1412.jpg. Skipping...\n",
      "No measurement stick found for p1416.jpg. Skipping...\n",
      "No measurement stick found for p142.jpg. Skipping...\n",
      "No measurement stick found for p145.jpg. Skipping...\n",
      "No measurement stick found for p439.jpg. Skipping...\n",
      "No measurement stick found for p442.jpg. Skipping...\n",
      "No measurement stick found for p446.jpg. Skipping...\n",
      "No measurement stick found for p463.jpg. Skipping...\n",
      "No measurement stick found for p467.jpg. Skipping...\n",
      "All images processed. Pothole dimensions calculated.\n",
      "Skipped 69 images without measurement stick.\n"
     ]
    }
   ],
   "source": [
    "results = {}\n",
    "skipped = 0\n",
    "\n",
    "for image_name in os.listdir(image_directory):\n",
    "    if image_name.endswith('.jpg'):  # Adjust if you have .jpg or other formats\n",
    "        annotation_file_name = image_name.replace('.jpg', '.txt')\n",
    "\n",
    "        # Load the image\n",
    "        image_path = os.path.join(image_directory, image_name)\n",
    "        image = Image.open(image_path)\n",
    "        image_width, image_height = image.size\n",
    "\n",
    "        # Default values\n",
    "        results[image_name] = {\n",
    "            'width_mm': 0,\n",
    "            'height_mm': 0,\n",
    "            'area_mm2': 0,\n",
    "            'aspect_ratio': 0\n",
    "        }\n",
    "\n",
    "        # Get the annotation\n",
    "        annotation = annotations.get(annotation_file_name)\n",
    "        if not annotation:\n",
    "            continue  # Skip if no annotation found\n",
    "\n",
    "        # Calculate pixel-to-mm conversion\n",
    "        pixel_to_mm = calculate_pixel_to_mm(\n",
    "            image_height, image_width, annotation)\n",
    "        if not pixel_to_mm:\n",
    "            print(f\"No measurement stick found for {image_name}. Skipping...\")\n",
    "            skipped += 1\n",
    "            continue\n",
    "\n",
    "        # Estimate pothole size\n",
    "        pothole_size_mm = estimate_pothole_size_mm(\n",
    "            pixel_to_mm, annotation, image_width, image_height)\n",
    "        results[image_name] = pothole_size_mm\n",
    "\n",
    "print(\"All images processed. Pothole dimensions calculated.\")\n",
    "print(f\"Skipped {skipped} images without measurement stick.\")"
   ]
  },
  {
   "cell_type": "code",
   "execution_count": 78,
   "metadata": {},
   "outputs": [
    {
     "data": {
      "text/plain": [
       "{'width_mm': 664.4951353435978,\n",
       " 'height_mm': 494.69244028462873,\n",
       " 'area_mm2': 328720.720060389,\n",
       " 'aspect_ratio': 1.3432490194539268}"
      ]
     },
     "execution_count": 78,
     "metadata": {},
     "output_type": "execute_result"
    }
   ],
   "source": [
    "results[imagen]"
   ]
  },
  {
   "cell_type": "code",
   "execution_count": 79,
   "metadata": {},
   "outputs": [
    {
     "data": {
      "text/plain": [
       "660"
      ]
     },
     "execution_count": 79,
     "metadata": {},
     "output_type": "execute_result"
    }
   ],
   "source": [
    "len(results)"
   ]
  },
  {
   "cell_type": "markdown",
   "metadata": {},
   "source": [
    "# Save the data"
   ]
  },
  {
   "cell_type": "code",
   "execution_count": 80,
   "metadata": {},
   "outputs": [],
   "source": [
    "with open(output_directory + 'measurement_features.json', 'w') as f:\n",
    "    json.dump(results, f)"
   ]
  }
 ],
 "metadata": {
  "kernelspec": {
   "display_name": "venv",
   "language": "python",
   "name": "python3"
  },
  "language_info": {
   "codemirror_mode": {
    "name": "ipython",
    "version": 3
   },
   "file_extension": ".py",
   "mimetype": "text/x-python",
   "name": "python",
   "nbconvert_exporter": "python",
   "pygments_lexer": "ipython3",
   "version": "3.12.5"
  }
 },
 "nbformat": 4,
 "nbformat_minor": 2
}
