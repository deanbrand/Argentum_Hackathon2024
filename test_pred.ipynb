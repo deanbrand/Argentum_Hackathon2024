{
 "cells": [
  {
   "cell_type": "code",
   "execution_count": 1,
   "metadata": {},
   "outputs": [],
   "source": [
    "from ultralytics import YOLO\n",
    "import os"
   ]
  },
  {
   "cell_type": "code",
   "execution_count": 2,
   "metadata": {},
   "outputs": [],
   "source": [
    "model = YOLO(\"./yolo/runs/detect/train6/weights/best.pt\")"
   ]
  },
  {
   "cell_type": "code",
   "execution_count": 4,
   "metadata": {},
   "outputs": [
    {
     "name": "stdout",
     "output_type": "stream",
     "text": [
      "\n",
      "image 1/30 c:\\Users\\6mbra\\Programming\\SBH2024\\v2_data_supp\\..\\good_data\\data\\images\\test\\p103.jpg: 480x640 1 pothole, 1 L1, 80.9ms\n",
      "image 2/30 c:\\Users\\6mbra\\Programming\\SBH2024\\v2_data_supp\\..\\good_data\\data\\images\\test\\p104.jpg: 480x640 1 pothole, 2 L1s, 16.6ms\n",
      "image 3/30 c:\\Users\\6mbra\\Programming\\SBH2024\\v2_data_supp\\..\\good_data\\data\\images\\test\\p1040.jpg: 640x640 1 pothole, 1 L1, 16.6ms\n",
      "image 4/30 c:\\Users\\6mbra\\Programming\\SBH2024\\v2_data_supp\\..\\good_data\\data\\images\\test\\p105.jpg: 480x640 1 pothole, 1 L1, 16.6ms\n",
      "image 5/30 c:\\Users\\6mbra\\Programming\\SBH2024\\v2_data_supp\\..\\good_data\\data\\images\\test\\p108.jpg: 448x640 1 pothole, 2 L1s, 64.4ms\n",
      "image 6/30 c:\\Users\\6mbra\\Programming\\SBH2024\\v2_data_supp\\..\\good_data\\data\\images\\test\\p1086.jpg: 640x640 1 pothole, 1 L1, 16.6ms\n",
      "image 7/30 c:\\Users\\6mbra\\Programming\\SBH2024\\v2_data_supp\\..\\good_data\\data\\images\\test\\p1115.jpg: 640x640 1 pothole, 1 L1, 17.7ms\n",
      "image 8/30 c:\\Users\\6mbra\\Programming\\SBH2024\\v2_data_supp\\..\\good_data\\data\\images\\test\\p1134.jpg: 640x640 1 pothole, 1 L1, 17.1ms\n",
      "image 9/30 c:\\Users\\6mbra\\Programming\\SBH2024\\v2_data_supp\\..\\good_data\\data\\images\\test\\p114.jpg: 448x640 1 L1, 17.7ms\n",
      "image 10/30 c:\\Users\\6mbra\\Programming\\SBH2024\\v2_data_supp\\..\\good_data\\data\\images\\test\\p1161.jpg: 640x640 1 pothole, 1 L1, 18.1ms\n",
      "image 11/30 c:\\Users\\6mbra\\Programming\\SBH2024\\v2_data_supp\\..\\good_data\\data\\images\\test\\p1162.jpg: 640x640 1 L1, 17.6ms\n",
      "image 12/30 c:\\Users\\6mbra\\Programming\\SBH2024\\v2_data_supp\\..\\good_data\\data\\images\\test\\p1181.jpg: 640x640 1 pothole, 1 L1, 16.6ms\n",
      "image 13/30 c:\\Users\\6mbra\\Programming\\SBH2024\\v2_data_supp\\..\\good_data\\data\\images\\test\\p1198.jpg: 640x640 1 pothole, 1 L1, 16.2ms\n",
      "image 14/30 c:\\Users\\6mbra\\Programming\\SBH2024\\v2_data_supp\\..\\good_data\\data\\images\\test\\p1205.jpg: 640x640 1 pothole, 1 L1, 15.6ms\n",
      "image 15/30 c:\\Users\\6mbra\\Programming\\SBH2024\\v2_data_supp\\..\\good_data\\data\\images\\test\\p1250.jpg: 640x640 1 pothole, 1 L1, 16.5ms\n",
      "image 16/30 c:\\Users\\6mbra\\Programming\\SBH2024\\v2_data_supp\\..\\good_data\\data\\images\\test\\p1270.jpg: 640x640 1 pothole, 1 L1, 15.2ms\n",
      "image 17/30 c:\\Users\\6mbra\\Programming\\SBH2024\\v2_data_supp\\..\\good_data\\data\\images\\test\\p1278.jpg: 640x640 1 L1, 16.5ms\n",
      "image 18/30 c:\\Users\\6mbra\\Programming\\SBH2024\\v2_data_supp\\..\\good_data\\data\\images\\test\\p1280.jpg: 640x640 1 L1, 15.9ms\n",
      "image 19/30 c:\\Users\\6mbra\\Programming\\SBH2024\\v2_data_supp\\..\\good_data\\data\\images\\test\\p1296.jpg: 640x640 1 pothole, 1 L1, 15.8ms\n",
      "image 20/30 c:\\Users\\6mbra\\Programming\\SBH2024\\v2_data_supp\\..\\good_data\\data\\images\\test\\p1409.jpg: 640x640 1 pothole, 1 L1, 17.1ms\n",
      "image 21/30 c:\\Users\\6mbra\\Programming\\SBH2024\\v2_data_supp\\..\\good_data\\data\\images\\test\\p143.jpg: 480x640 1 pothole, 1 L1, 15.9ms\n",
      "image 22/30 c:\\Users\\6mbra\\Programming\\SBH2024\\v2_data_supp\\..\\good_data\\data\\images\\test\\p1430.jpg: 640x640 1 pothole, 1 L1, 18.1ms\n",
      "image 23/30 c:\\Users\\6mbra\\Programming\\SBH2024\\v2_data_supp\\..\\good_data\\data\\images\\test\\p1438.jpg: 640x640 1 pothole, 1 L1, 14.9ms\n",
      "image 24/30 c:\\Users\\6mbra\\Programming\\SBH2024\\v2_data_supp\\..\\good_data\\data\\images\\test\\p144.jpg: 448x640 1 pothole, 1 L1, 17.1ms\n",
      "image 25/30 c:\\Users\\6mbra\\Programming\\SBH2024\\v2_data_supp\\..\\good_data\\data\\images\\test\\p406.jpg: 480x640 1 pothole, 1 L1, 16.6ms\n",
      "image 26/30 c:\\Users\\6mbra\\Programming\\SBH2024\\v2_data_supp\\..\\good_data\\data\\images\\test\\p434.jpg: 480x640 1 pothole, 1 L1, 16.6ms\n",
      "image 27/30 c:\\Users\\6mbra\\Programming\\SBH2024\\v2_data_supp\\..\\good_data\\data\\images\\test\\p450.jpg: 512x640 1 pothole, 1 L1, 68.4ms\n",
      "image 28/30 c:\\Users\\6mbra\\Programming\\SBH2024\\v2_data_supp\\..\\good_data\\data\\images\\test\\p470.jpg: 480x640 1 pothole, 2 L1s, 17.1ms\n",
      "image 29/30 c:\\Users\\6mbra\\Programming\\SBH2024\\v2_data_supp\\..\\good_data\\data\\images\\test\\p473.jpg: 480x640 1 pothole, 1 L1, 16.0ms\n",
      "image 30/30 c:\\Users\\6mbra\\Programming\\SBH2024\\v2_data_supp\\..\\good_data\\data\\images\\test\\p479.jpg: 480x640 1 pothole, 1 L1, 16.1ms\n",
      "Speed: 2.8ms preprocess, 22.1ms inference, 6.2ms postprocess per image at shape (1, 3, 480, 640)\n"
     ]
    }
   ],
   "source": [
    "results = model(\"../good_data/data/images/test\")"
   ]
  },
  {
   "cell_type": "code",
   "execution_count": 5,
   "metadata": {},
   "outputs": [
    {
     "name": "stdout",
     "output_type": "stream",
     "text": [
      "ultralytics.engine.results.Boxes object with attributes:\n",
      "\n",
      "cls: tensor([1., 0.], device='cuda:0')\n",
      "conf: tensor([0.8581, 0.7612], device='cuda:0')\n",
      "data: tensor([[251.4201,  17.4348, 277.7448, 187.0061,   0.8581,   1.0000],\n",
      "        [208.0907,  36.9641, 428.2704, 262.5730,   0.7612,   0.0000]], device='cuda:0')\n",
      "id: None\n",
      "is_track: False\n",
      "orig_shape: (378, 522)\n",
      "shape: torch.Size([2, 6])\n",
      "xywh: tensor([[264.5824, 102.2205,  26.3247, 169.5713],\n",
      "        [318.1805, 149.7686, 220.1797, 225.6088]], device='cuda:0')\n",
      "xywhn: tensor([[0.5069, 0.2704, 0.0504, 0.4486],\n",
      "        [0.6095, 0.3962, 0.4218, 0.5968]], device='cuda:0')\n",
      "xyxy: tensor([[251.4201,  17.4348, 277.7448, 187.0061],\n",
      "        [208.0907,  36.9641, 428.2704, 262.5730]], device='cuda:0')\n",
      "xyxyn: tensor([[0.4816, 0.0461, 0.5321, 0.4947],\n",
      "        [0.3986, 0.0978, 0.8204, 0.6946]], device='cuda:0')\n"
     ]
    }
   ],
   "source": [
    "print(results[0].boxes)"
   ]
  },
  {
   "cell_type": "code",
   "execution_count": 6,
   "metadata": {},
   "outputs": [
    {
     "name": "stdout",
     "output_type": "stream",
     "text": [
      "[1.0, 0.0]\n",
      "[0.858058750629425, 0.7612113356590271]\n",
      "tensor([[0.5069, 0.2704, 0.0504, 0.4486],\n",
      "        [0.6095, 0.3962, 0.4218, 0.5968]], device='cuda:0')\n"
     ]
    }
   ],
   "source": [
    "print(results[0].boxes.cls.tolist())\n",
    "print(results[0].boxes.conf.tolist())\n",
    "print(results[0].boxes.xywhn)"
   ]
  },
  {
   "cell_type": "code",
   "execution_count": 7,
   "metadata": {},
   "outputs": [],
   "source": [
    "yolo_preds = []"
   ]
  },
  {
   "cell_type": "code",
   "execution_count": 8,
   "metadata": {},
   "outputs": [],
   "source": [
    "for i in range(len(results)):\n",
    "    box_dims = []\n",
    "    for j in range(results[i].boxes.cls.shape[0]):\n",
    "        yolo_boxes = results[i].boxes.xywhn[j].tolist()\n",
    "        box_dims.append((int(results[i].boxes.cls[j]), yolo_boxes[0],\n",
    "                         yolo_boxes[1], yolo_boxes[2], yolo_boxes[3]))\n",
    "    yolo_preds.append(box_dims)"
   ]
  },
  {
   "cell_type": "code",
   "execution_count": 11,
   "metadata": {},
   "outputs": [],
   "source": [
    "test_image_directory = \"../good_data/data/images/test\"\n",
    "output_directory = \"../good_data/data/labels/test\"\n",
    "os.makedirs(output_directory, exist_ok=True)"
   ]
  },
  {
   "cell_type": "code",
   "execution_count": 12,
   "metadata": {},
   "outputs": [],
   "source": [
    "image_filenames = [f for f in os.listdir(\n",
    "    test_image_directory) if f.endswith(('.png', '.jpg', '.jpeg'))]\n",
    "image_names = [os.path.splitext(f)[0] for f in image_filenames]"
   ]
  },
  {
   "cell_type": "code",
   "execution_count": 13,
   "metadata": {},
   "outputs": [],
   "source": [
    "# Loop through the image names and yolo_preds to save the annotations\n",
    "for image_name, preds in zip(image_names, yolo_preds):\n",
    "    # Create a corresponding .txt file for each image in the output directory\n",
    "    annotation_file_path = os.path.join(output_directory, f\"{image_name}.txt\")\n",
    "\n",
    "    # Write the YOLO formatted bounding boxes to the .txt file\n",
    "    with open(annotation_file_path, 'w') as file:\n",
    "        for pred in preds:  # This loop handles multiple bounding boxes\n",
    "            class_id, x_center, y_center, width, height = pred\n",
    "            file.write(f\"{class_id} {x_center} {y_center} {width} {height}\\n\")"
   ]
  }
 ],
 "metadata": {
  "kernelspec": {
   "display_name": "venv",
   "language": "python",
   "name": "python3"
  },
  "language_info": {
   "codemirror_mode": {
    "name": "ipython",
    "version": 3
   },
   "file_extension": ".py",
   "mimetype": "text/x-python",
   "name": "python",
   "nbconvert_exporter": "python",
   "pygments_lexer": "ipython3",
   "version": "3.12.5"
  }
 },
 "nbformat": 4,
 "nbformat_minor": 2
}
